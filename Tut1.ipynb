{
  "nbformat": 4,
  "nbformat_minor": 0,
  "metadata": {
    "colab": {
      "name": "Tut1.ipynb",
      "provenance": [],
      "toc_visible": true,
      "authorship_tag": "ABX9TyN/cJuZve9G2GvRwQzO7ete",
      "include_colab_link": true
    },
    "kernelspec": {
      "name": "python3",
      "display_name": "Python 3"
    }
  },
  "cells": [
    {
      "cell_type": "markdown",
      "metadata": {
        "id": "view-in-github",
        "colab_type": "text"
      },
      "source": [
        "<a href=\"https://colab.research.google.com/github/SharifAbuadbba/googleColab/blob/master/Tut1.ipynb\" target=\"_parent\"><img src=\"https://colab.research.google.com/assets/colab-badge.svg\" alt=\"Open In Colab\"/></a>"
      ]
    },
    {
      "cell_type": "markdown",
      "metadata": {
        "id": "yIlnpGwIfSH0",
        "colab_type": "text"
      },
      "source": [
        "## 1. Hellow world prog"
      ]
    },
    {
      "cell_type": "code",
      "metadata": {
        "id": "Gnwm3N4me-u9",
        "colab_type": "code",
        "colab": {}
      },
      "source": [
        "print (\"Hellow world\")"
      ],
      "execution_count": 0,
      "outputs": []
    },
    {
      "cell_type": "markdown",
      "metadata": {
        "id": "NgiWTjZwmPtq",
        "colab_type": "text"
      },
      "source": [
        "### 2. Variables"
      ]
    },
    {
      "cell_type": "code",
      "metadata": {
        "id": "YoA6ZQbYlmmT",
        "colab_type": "code",
        "outputId": "1550ce66-1466-46a0-c7f5-8a6b2cb2426a",
        "colab": {
          "base_uri": "https://localhost:8080/",
          "height": 34
        }
      },
      "source": [
        "a=10\n",
        "b=20\n",
        "c=a+b\n",
        "print(\"addition of a+b= \",c)"
      ],
      "execution_count": 0,
      "outputs": [
        {
          "output_type": "stream",
          "text": [
            "addition of a+b=  30\n"
          ],
          "name": "stdout"
        }
      ]
    },
    {
      "cell_type": "code",
      "metadata": {
        "id": "q2cf1mV3mMvV",
        "colab_type": "code",
        "outputId": "96f486fe-02a9-43bb-e831-01949d17a85f",
        "colab": {
          "base_uri": "https://localhost:8080/",
          "height": 118
        }
      },
      "source": [
        "counter = 100          # An integer assignment\n",
        "miles   = 1000.0       # A floating point\n",
        "name    = \"John\"       # A string\n",
        "\n",
        "print (counter)\n",
        "print (miles)\n",
        "print (name)\n",
        "\n",
        "print (type(counter))\n",
        "print (type(miles))\n",
        "print (type(name))"
      ],
      "execution_count": 0,
      "outputs": [
        {
          "output_type": "stream",
          "text": [
            "100\n",
            "1000.0\n",
            "John\n",
            "<class 'int'>\n",
            "<class 'float'>\n",
            "<class 'str'>\n"
          ],
          "name": "stdout"
        }
      ]
    },
    {
      "cell_type": "markdown",
      "metadata": {
        "id": "ZgzITXQjnUeO",
        "colab_type": "text"
      },
      "source": [
        "### Dealing with String"
      ]
    },
    {
      "cell_type": "code",
      "metadata": {
        "id": "s-I_kgZTnTAB",
        "colab_type": "code",
        "outputId": "4a1f54ab-ec1b-4a9e-bea4-2be5f1680a96",
        "colab": {
          "base_uri": "https://localhost:8080/",
          "height": 118
        }
      },
      "source": [
        "str = 'Hello World!'\n",
        "\n",
        "print (str)          # Prints complete string\n",
        "print (str[0])       # Prints first character of the string\n",
        "print (str[2:5])     # Prints characters starting from 3rd to 5th\n",
        "print (str[2:])      # Prints string starting from 3rd character\n",
        "print (str * 2)      # Prints string two times\n",
        "print (str + \"TEST\") # Prints concatenated string"
      ],
      "execution_count": 0,
      "outputs": [
        {
          "output_type": "stream",
          "text": [
            "Hello World!\n",
            "H\n",
            "llo\n",
            "llo World!\n",
            "Hello World!Hello World!\n",
            "Hello World!TEST\n"
          ],
          "name": "stdout"
        }
      ]
    },
    {
      "cell_type": "markdown",
      "metadata": {
        "id": "Jy4J2Cesolu9",
        "colab_type": "text"
      },
      "source": [
        "### Dealing with List [], Tuple (), Dictionary"
      ]
    },
    {
      "cell_type": "code",
      "metadata": {
        "id": "ZvV4FTqSolIW",
        "colab_type": "code",
        "outputId": "e7cfa605-6170-41b7-cbca-2dc38a02cbf0",
        "colab": {
          "base_uri": "https://localhost:8080/",
          "height": 67
        }
      },
      "source": [
        "thislist = (\"apple\", \"banana\", \"cherry\")\n",
        "\n",
        "for x in thislist:\n",
        "    print(x)\n",
        "\n",
        "\n"
      ],
      "execution_count": 0,
      "outputs": [
        {
          "output_type": "stream",
          "text": [
            "apple\n",
            "banana\n",
            "cherry\n"
          ],
          "name": "stdout"
        }
      ]
    },
    {
      "cell_type": "markdown",
      "metadata": {
        "id": "Sfqv9XZYqM1m",
        "colab_type": "text"
      },
      "source": [
        "### Dictionary"
      ]
    },
    {
      "cell_type": "code",
      "metadata": {
        "id": "8GmrX48FogYy",
        "colab_type": "code",
        "outputId": "07bb6f22-e14b-458a-f173-df249d6d9177",
        "colab": {
          "base_uri": "https://localhost:8080/",
          "height": 34
        }
      },
      "source": [
        "thisdict = {\"brand\": \"Ford\",\"model\": \"Mustang\",\"year\": 1964}\n",
        "print(thisdict.get(\"model\"))"
      ],
      "execution_count": 0,
      "outputs": [
        {
          "output_type": "stream",
          "text": [
            "Mustang\n"
          ],
          "name": "stdout"
        }
      ]
    },
    {
      "cell_type": "markdown",
      "metadata": {
        "id": "8MD24PLpqQPg",
        "colab_type": "text"
      },
      "source": [
        "### If statement"
      ]
    },
    {
      "cell_type": "code",
      "metadata": {
        "id": "FASI0ha7qSe2",
        "colab_type": "code",
        "outputId": "6df767ca-8668-4f16-dc63-16f4fabbac99",
        "colab": {
          "base_uri": "https://localhost:8080/",
          "height": 34
        }
      },
      "source": [
        "a = 33\n",
        "b = 200\n",
        "if b > a:\n",
        "  print(\"b is greater than a\")"
      ],
      "execution_count": 0,
      "outputs": [
        {
          "output_type": "stream",
          "text": [
            "b is greater than a\n"
          ],
          "name": "stdout"
        }
      ]
    }
  ]
}